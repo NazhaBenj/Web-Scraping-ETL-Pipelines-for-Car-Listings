{
 "cells": [
  {
   "cell_type": "markdown",
   "id": "e75cfed6",
   "metadata": {},
   "source": [
    "## Import libraries"
   ]
  },
  {
   "cell_type": "code",
   "execution_count": 4,
   "id": "2736fdc4",
   "metadata": {
    "slideshow": {
     "slide_type": "subslide"
    }
   },
   "outputs": [],
   "source": [
    "from selenium import webdriver\n",
    "from selenium.webdriver.chrome.service import Service\n",
    "from selenium.webdriver.common.by import By\n",
    "import time"
   ]
  },
  {
   "cell_type": "markdown",
   "id": "93e20e6b",
   "metadata": {},
   "source": [
    "### Define a Edge Webdriver"
   ]
  },
  {
   "cell_type": "code",
   "execution_count": 5,
   "id": "d0eab9fc",
   "metadata": {},
   "outputs": [],
   "source": [
    "service = Service(executable_path=r\"C:\\Users\\Admin\\Desktop\\tuto_scraping\\chromedriver.exe\")\n",
    "driver = webdriver.Chrome(service=service)"
   ]
  },
  {
   "cell_type": "markdown",
   "id": "fb3d167c",
   "metadata": {},
   "source": [
    "### Opening url page"
   ]
  },
  {
   "cell_type": "code",
   "execution_count": null,
   "id": "0d55c4be",
   "metadata": {},
   "outputs": [],
   "source": [
    "driver.get(\"https://www.marocannonces.com/categorie/314/Auto-Moto/Voitures-occasion.html\")"
   ]
  },
  {
   "cell_type": "code",
   "execution_count": 6,
   "id": "bf5fff76",
   "metadata": {},
   "outputs": [],
   "source": [
    "all_hrefs = []\n",
    "\n",
    "for i in range(1, 109): # Boucle de page 1 à 109 \n",
    "    current_url = 'https://www.marocannonces.com/categorie/314/Auto-Moto/Voitures-occasion/{}.html'.format(i) \n",
    "   # Load the page in the browser\n",
    "    driver.get(current_url)\n",
    "    time.sleep(2) \n",
    "\n",
    "    links = driver.find_elements(By.CSS_SELECTOR, \"ul.cars-list li a\") \n",
    "    hrefs = [link.get_attribute(\"href\") for link in links]\n",
    "    all_hrefs.extend(hrefs)"
   ]
  },
  {
   "cell_type": "markdown",
   "id": "e16d5ea2",
   "metadata": {},
   "source": [
    "### How much url i have"
   ]
  },
  {
   "cell_type": "code",
   "execution_count": 7,
   "id": "640454ef",
   "metadata": {},
   "outputs": [
    {
     "name": "stdout",
     "output_type": "stream",
     "text": [
      "2160\n"
     ]
    }
   ],
   "source": [
    "print(len(all_hrefs))"
   ]
  },
  {
   "cell_type": "code",
   "execution_count": 10,
   "id": "e57a34b6",
   "metadata": {},
   "outputs": [
    {
     "data": {
      "text/plain": [
       "['https://www.marocannonces.com/categorie/314/Voitures-occasion/annonce/10038430/Dacia-duster-24.html',\n",
       " 'https://www.marocannonces.com/categorie/314/Voitures-occasion/annonce/10009287/ford-titanium-automatique.html',\n",
       " 'https://www.marocannonces.com/categorie/314/Voitures-occasion/annonce/10081338/Opel-Astra-2017.html',\n",
       " 'https://www.marocannonces.com/categorie/314/Voitures-occasion/annonce/10081333/Hyundai-Tucson-automatique.html',\n",
       " 'https://www.marocannonces.com/categorie/314/Voitures-occasion/annonce/10081253/PEUGEOT-308.html',\n",
       " 'https://www.marocannonces.com/categorie/314/Voitures-occasion/annonce/10081192/Megane-3.html',\n",
       " 'https://www.marocannonces.com/categorie/314/Voitures-occasion/annonce/10081063/Peugeot-206-%C3%A0-vendre.html',\n",
       " 'https://www.marocannonces.com/categorie/314/Voitures-occasion/annonce/10080657/Dacia-dokker.html',\n",
       " 'https://www.marocannonces.com/categorie/314/Voitures-occasion/annonce/9821086/Volvo-c30-bonne-occasion.html',\n",
       " 'https://www.marocannonces.com/categorie/314/Voitures-occasion/annonce/10080241/MERCEDES-GLC-220.html']"
      ]
     },
     "execution_count": 10,
     "metadata": {},
     "output_type": "execute_result"
    }
   ],
   "source": [
    "all_hrefs[:10]"
   ]
  },
  {
   "cell_type": "markdown",
   "id": "f3c065af",
   "metadata": {},
   "source": [
    "## 1- Retrieving the titles of the offers"
   ]
  },
  {
   "cell_type": "code",
   "execution_count": 11,
   "id": "6ca579a4",
   "metadata": {},
   "outputs": [],
   "source": [
    "# Ajout les titres des 100 premiers offres\n",
    "L = []\n",
    "\n",
    "for i in range(0, 100):\n",
    "    driver.get(all_hrefs[i])\n",
    "    Type = driver.find_elements(By.XPATH, '//*[@id=\"extra_questions\"]')\n",
    "    \n",
    "    for element in Type:\n",
    "        l = element.text.split('\\n')\n",
    "        temp = []\n",
    "        \n",
    "        for item in l:\n",
    "            if ':' in item: \n",
    "                cle, valeur = item.split(':', 1) \n",
    "                temp.append([cle.strip(), valeur.strip()]) \n",
    "        \n",
    "        if temp:\n",
    "            L.append(temp)"
   ]
  },
  {
   "cell_type": "code",
   "execution_count": 12,
   "id": "b4f33e38",
   "metadata": {},
   "outputs": [
    {
     "name": "stdout",
     "output_type": "stream",
     "text": [
      "100\n"
     ]
    }
   ],
   "source": [
    "print(len(L))\n"
   ]
  },
  {
   "cell_type": "code",
   "execution_count": 13,
   "id": "7bd31e8e",
   "metadata": {},
   "outputs": [],
   "source": [
    "for i in range(100,300):\n",
    "    driver.get(all_hrefs[i])\n",
    "    Type = driver.find_elements(By.XPATH, '//*[@id=\"extra_questions\"]')\n",
    "    \n",
    "    for element in Type:\n",
    "        l = element.text.split('\\n')\n",
    "        temp = []\n",
    "        \n",
    "        for item in l:\n",
    "            if ':' in item:  # Vérifier si l'élément contient un attribut\n",
    "                cle, valeur = item.split(':', 1)  # Séparer clé et valeur\n",
    "                temp.append([cle.strip(), valeur.strip()])  # Nettoyer les espaces\n",
    "        \n",
    "        if temp:\n",
    "            L.append(temp)\n"
   ]
  },
  {
   "cell_type": "code",
   "execution_count": null,
   "id": "989ee1e4",
   "metadata": {},
   "outputs": [],
   "source": [
    "for i in range(301,500):\n",
    "    driver.get(all_hrefs[i])\n",
    "    Type = driver.find_elements(By.XPATH, '//*[@id=\"extra_questions\"]')\n",
    "    \n",
    "    for element in Type:\n",
    "        l = element.text.split('\\n')\n",
    "        temp = []\n",
    "        \n",
    "        for item in l:\n",
    "            if ':' in item:  # Vérifier si l'élément contient un attribut\n",
    "                cle, valeur = item.split(':', 1)  # Séparer clé et valeur\n",
    "                temp.append([cle.strip(), valeur.strip()])  # Nettoyer les espaces\n",
    "        \n",
    "        if temp:\n",
    "            L.append(temp)"
   ]
  },
  {
   "cell_type": "code",
   "execution_count": 15,
   "id": "9482903a",
   "metadata": {},
   "outputs": [
    {
     "name": "stdout",
     "output_type": "stream",
     "text": [
      "482\n"
     ]
    }
   ],
   "source": [
    "print(len(L))"
   ]
  },
  {
   "cell_type": "code",
   "execution_count": 16,
   "id": "b3c6241f",
   "metadata": {},
   "outputs": [],
   "source": [
    "for i in range(501,981):\n",
    "    driver.get(all_hrefs[i])\n",
    "    Type = driver.find_elements(By.XPATH, '//*[@id=\"extra_questions\"]')\n",
    "    \n",
    "    for element in Type:\n",
    "        l = element.text.split('\\n')\n",
    "        temp = []\n",
    "        \n",
    "        for item in l:\n",
    "            if ':' in item:  # Vérifier si l'élément contient un attribut\n",
    "                cle, valeur = item.split(':', 1)  # Séparer clé et valeur\n",
    "                temp.append([cle.strip(), valeur.strip()])  # Nettoyer les espaces\n",
    "        \n",
    "        if temp:\n",
    "            L.append(temp)"
   ]
  },
  {
   "cell_type": "code",
   "execution_count": 17,
   "id": "6f36fa33",
   "metadata": {},
   "outputs": [
    {
     "name": "stdout",
     "output_type": "stream",
     "text": [
      "981\n"
     ]
    }
   ],
   "source": [
    "print(len(L))"
   ]
  },
  {
   "cell_type": "code",
   "execution_count": 18,
   "id": "ddff9292",
   "metadata": {},
   "outputs": [],
   "source": [
    "for i in range(982,1200):\n",
    "    driver.get(all_hrefs[i])\n",
    "    Type = driver.find_elements(By.XPATH, '//*[@id=\"extra_questions\"]')\n",
    "    \n",
    "    for element in Type:\n",
    "        l = element.text.split('\\n')\n",
    "        temp = []\n",
    "        \n",
    "        for item in l:\n",
    "            if ':' in item:  # Vérifier si l'élément contient un attribut\n",
    "                cle, valeur = item.split(':', 1)  # Séparer clé et valeur\n",
    "                temp.append([cle.strip(), valeur.strip()])  # Nettoyer les espaces\n",
    "        \n",
    "        if temp:\n",
    "            L.append(temp)"
   ]
  },
  {
   "cell_type": "code",
   "execution_count": 19,
   "id": "ffac0edd",
   "metadata": {},
   "outputs": [
    {
     "name": "stdout",
     "output_type": "stream",
     "text": [
      "1199\n"
     ]
    }
   ],
   "source": [
    "print(len(L))"
   ]
  },
  {
   "cell_type": "code",
   "execution_count": 107,
   "id": "ef637561",
   "metadata": {},
   "outputs": [
    {
     "data": {
      "text/plain": [
       "[[['Marque', 'Dacia'],\n",
       "  ['Modèle', 'DUSTER'],\n",
       "  ['Année', '2015'],\n",
       "  ['Kilométrage', '177000'],\n",
       "  ['Carburant', 'Diesel'],\n",
       "  ['Puissance', '6 CV'],\n",
       "  ['Ville', 'Casablanca']],\n",
       " [['Marque', 'Ford'],\n",
       "  ['Modèle', 'Fusion'],\n",
       "  ['Année', '2015'],\n",
       "  ['Kilométrage', '181000'],\n",
       "  ['Carburant', 'Diesel'],\n",
       "  ['Puissance', '8 CV'],\n",
       "  ['Ville', 'Casablanca']],\n",
       " [['Marque', 'Opel'],\n",
       "  ['Modèle', 'Astra'],\n",
       "  ['Année', '2017'],\n",
       "  ['Kilométrage', '160000'],\n",
       "  ['Carburant', 'Diesel'],\n",
       "  ['Puissance', '7 CV'],\n",
       "  ['Ville', 'Safi']],\n",
       " [['Marque', 'Hyundai'],\n",
       "  ['Modèle', 'TUCSON'],\n",
       "  ['Kilométrage', '88000'],\n",
       "  ['Carburant', 'Diesel'],\n",
       "  ['Puissance', '7 CV'],\n",
       "  ['Ville', 'Safi']],\n",
       " [['Marque', 'Peugeot'],\n",
       "  ['Modèle', '308'],\n",
       "  ['Année', '2018'],\n",
       "  ['Kilométrage', '145000'],\n",
       "  ['Carburant', 'Diesel'],\n",
       "  ['Puissance', '6 CV'],\n",
       "  ['Ville', 'Casablanca']]]"
      ]
     },
     "execution_count": 107,
     "metadata": {},
     "output_type": "execute_result"
    }
   ],
   "source": [
    "L[:5]"
   ]
  },
  {
   "cell_type": "code",
   "execution_count": 86,
   "id": "79cf31cb",
   "metadata": {},
   "outputs": [],
   "source": [
    "# Initialisation des listes qui vont contenir le titre,le prix,modele,marque,ville,kilometrage,carburant\n",
    "\n",
    "Marque = [None for i in range(len(L))]\n",
    "Modele = [None for i in range(len(L))]\n",
    "Annee = [None for i in range(len(L))]\n",
    "Kilometrage = [None for i in range(len(L))]\n",
    "Carburant = [None for i in range(len(L))]\n",
    "puissance = [None for i in range(len(L))]\n",
    "Ville = [None for i in range(len(L))]\n"
   ]
  },
  {
   "cell_type": "code",
   "execution_count": 87,
   "id": "188d34af",
   "metadata": {},
   "outputs": [],
   "source": [
    "for i in range(len(L)):\n",
    "    for e in L[i]:\n",
    "        if e[0]==\"Marque\":\n",
    "            Marque[i]=e[1]\n",
    "        else:\n",
    "            continue"
   ]
  },
  {
   "cell_type": "code",
   "execution_count": 88,
   "id": "ee4b228b",
   "metadata": {},
   "outputs": [
    {
     "name": "stdout",
     "output_type": "stream",
     "text": [
      "1199\n"
     ]
    }
   ],
   "source": [
    "print(len(Marque))"
   ]
  },
  {
   "cell_type": "code",
   "execution_count": 90,
   "id": "99ce94df",
   "metadata": {},
   "outputs": [
    {
     "data": {
      "text/plain": [
       "['Dacia',\n",
       " 'Ford',\n",
       " 'Opel',\n",
       " 'Hyundai',\n",
       " 'Peugeot',\n",
       " 'Renault',\n",
       " 'Peugeot',\n",
       " 'Dacia',\n",
       " 'Volvo',\n",
       " 'Mercedes-Benz']"
      ]
     },
     "execution_count": 90,
     "metadata": {},
     "output_type": "execute_result"
    }
   ],
   "source": [
    "Marque[:10]"
   ]
  },
  {
   "cell_type": "code",
   "execution_count": 91,
   "id": "fb34b3bb",
   "metadata": {},
   "outputs": [],
   "source": [
    "for i in range(len(L)):\n",
    "    for e in L[i]:\n",
    "        if e[0]==\"Modèle\":\n",
    "            Modele[i]=e[1]\n",
    "        else:\n",
    "            continue\n",
    "        "
   ]
  },
  {
   "cell_type": "code",
   "execution_count": 92,
   "id": "53c4c45d",
   "metadata": {},
   "outputs": [
    {
     "name": "stdout",
     "output_type": "stream",
     "text": [
      "1199\n"
     ]
    }
   ],
   "source": [
    "print(len(Modele))"
   ]
  },
  {
   "cell_type": "code",
   "execution_count": 93,
   "id": "37b0adff",
   "metadata": {},
   "outputs": [
    {
     "data": {
      "text/plain": [
       "['DUSTER',\n",
       " 'Fusion',\n",
       " 'Astra',\n",
       " 'TUCSON',\n",
       " '308',\n",
       " 'Megane',\n",
       " '206',\n",
       " 'Logan',\n",
       " 'C30',\n",
       " 'CLASSE CLC']"
      ]
     },
     "execution_count": 93,
     "metadata": {},
     "output_type": "execute_result"
    }
   ],
   "source": [
    "Modele[:10]"
   ]
  },
  {
   "cell_type": "code",
   "execution_count": 94,
   "id": "2a622cb0",
   "metadata": {},
   "outputs": [],
   "source": [
    "for i in range(len(L)):\n",
    "    for e in L[i]:\n",
    "        if e[0]==\"Année\":\n",
    "            Annee[i]=e[1]\n",
    "        else:\n",
    "            continue"
   ]
  },
  {
   "cell_type": "code",
   "execution_count": 95,
   "id": "a561e488",
   "metadata": {},
   "outputs": [
    {
     "name": "stdout",
     "output_type": "stream",
     "text": [
      "1199\n"
     ]
    }
   ],
   "source": [
    "print(len(Annee))"
   ]
  },
  {
   "cell_type": "code",
   "execution_count": 96,
   "id": "3ecf513b",
   "metadata": {},
   "outputs": [
    {
     "data": {
      "text/plain": [
       "['2015', '2015', '2017', None, '2018', '2011', '2008', '2013', '2008', '2017']"
      ]
     },
     "execution_count": 96,
     "metadata": {},
     "output_type": "execute_result"
    }
   ],
   "source": [
    "Annee[:10]"
   ]
  },
  {
   "cell_type": "code",
   "execution_count": 97,
   "id": "1c285f02",
   "metadata": {},
   "outputs": [],
   "source": [
    "for i in range(len(L)):\n",
    "    for e in L[i]:\n",
    "        if e[0]==\"Kilométrage\":\n",
    "            Kilometrage[i]=e[1]\n",
    "        else:\n",
    "            continue"
   ]
  },
  {
   "cell_type": "code",
   "execution_count": 98,
   "id": "a954c603",
   "metadata": {},
   "outputs": [
    {
     "name": "stdout",
     "output_type": "stream",
     "text": [
      "1199\n"
     ]
    }
   ],
   "source": [
    "print(len(Kilometrage))"
   ]
  },
  {
   "cell_type": "code",
   "execution_count": 99,
   "id": "23ca6edb",
   "metadata": {},
   "outputs": [
    {
     "data": {
      "text/plain": [
       "['177000',\n",
       " '181000',\n",
       " '160000',\n",
       " '88000',\n",
       " '145000',\n",
       " '215000',\n",
       " '160000',\n",
       " '188000',\n",
       " '130000',\n",
       " '140000']"
      ]
     },
     "execution_count": 99,
     "metadata": {},
     "output_type": "execute_result"
    }
   ],
   "source": [
    "Kilometrage[:10]"
   ]
  },
  {
   "cell_type": "code",
   "execution_count": 101,
   "id": "042baf2b",
   "metadata": {},
   "outputs": [],
   "source": [
    "for i in range(len(L)):\n",
    "    for e in L[i]:\n",
    "        if e[0]==\"Carburant\":\n",
    "            Carburant[i]=e[1]\n",
    "        else:\n",
    "            continue"
   ]
  },
  {
   "cell_type": "code",
   "execution_count": 102,
   "id": "d771d16a",
   "metadata": {},
   "outputs": [
    {
     "name": "stdout",
     "output_type": "stream",
     "text": [
      "1199\n"
     ]
    }
   ],
   "source": [
    "print(len(Carburant))"
   ]
  },
  {
   "cell_type": "code",
   "execution_count": 108,
   "id": "a1510057",
   "metadata": {},
   "outputs": [],
   "source": [
    "for i in range(len(L)):\n",
    "    for e in L[i]:\n",
    "        if e[0]==\"Puissance\":\n",
    "            puissance[i]=e[1]\n",
    "        else:\n",
    "            continue"
   ]
  },
  {
   "cell_type": "code",
   "execution_count": 109,
   "id": "41668b10",
   "metadata": {},
   "outputs": [
    {
     "name": "stdout",
     "output_type": "stream",
     "text": [
      "1199\n"
     ]
    }
   ],
   "source": [
    "print(len(puissance))"
   ]
  },
  {
   "cell_type": "code",
   "execution_count": 110,
   "id": "3fdddf5f",
   "metadata": {},
   "outputs": [],
   "source": [
    "for i in range(len(L)):\n",
    "    for e in L[i]:\n",
    "        if e[0]==\"Ville\":\n",
    "            Ville[i]=e[1]\n",
    "        else:\n",
    "            continue"
   ]
  },
  {
   "cell_type": "code",
   "execution_count": 39,
   "id": "8c3a1a38",
   "metadata": {},
   "outputs": [
    {
     "name": "stdout",
     "output_type": "stream",
     "text": [
      "1199\n"
     ]
    }
   ],
   "source": [
    "print(len(Ville))"
   ]
  },
  {
   "cell_type": "code",
   "execution_count": 40,
   "id": "6e3ccec3",
   "metadata": {},
   "outputs": [],
   "source": [
    "Titles = []\n",
    "Prices = []\n",
    "for i in range(0,500):\n",
    "    link = all_hrefs[i]\n",
    "    driver.get(link)\n",
    "    Prices.append(driver.find_element(By.XPATH,'/html/body/div[2]/div[2]/div[1]/div/div[2]/div/strong/span').text)\n",
    "    Titles.append(driver.find_element(By.XPATH,'/html/body/div[2]/div[2]/div[1]/div/div[2]/div/h1').text)"
   ]
  },
  {
   "cell_type": "code",
   "execution_count": 41,
   "id": "3f10b7c6",
   "metadata": {},
   "outputs": [
    {
     "name": "stdout",
     "output_type": "stream",
     "text": [
      "500\n"
     ]
    }
   ],
   "source": [
    "print(len(Prices))"
   ]
  },
  {
   "cell_type": "code",
   "execution_count": 111,
   "id": "bf15d294",
   "metadata": {},
   "outputs": [],
   "source": [
    "Titles = Titles[:500]"
   ]
  },
  {
   "cell_type": "code",
   "execution_count": 112,
   "id": "6fe941fc",
   "metadata": {},
   "outputs": [],
   "source": [
    "Prices = Prices[:500]"
   ]
  },
  {
   "cell_type": "code",
   "execution_count": 113,
   "id": "dee68386",
   "metadata": {},
   "outputs": [],
   "source": [
    "Marque = Marque[:500]"
   ]
  },
  {
   "cell_type": "code",
   "execution_count": 114,
   "id": "7d743d63",
   "metadata": {},
   "outputs": [],
   "source": [
    "Modele = Modele[:500]"
   ]
  },
  {
   "cell_type": "code",
   "execution_count": 115,
   "id": "1df19040",
   "metadata": {},
   "outputs": [],
   "source": [
    "Annee = Annee[:500]"
   ]
  },
  {
   "cell_type": "code",
   "execution_count": 116,
   "id": "3ca40b68",
   "metadata": {},
   "outputs": [],
   "source": [
    "Carburant = Carburant[:500]"
   ]
  },
  {
   "cell_type": "code",
   "execution_count": 117,
   "id": "552217c9",
   "metadata": {},
   "outputs": [],
   "source": [
    "Kilometrage = Kilometrage[:500]"
   ]
  },
  {
   "cell_type": "code",
   "execution_count": 118,
   "id": "d2fc835b",
   "metadata": {},
   "outputs": [],
   "source": [
    "puissance = puissance[:500]"
   ]
  },
  {
   "cell_type": "code",
   "execution_count": 119,
   "id": "258a0157",
   "metadata": {},
   "outputs": [],
   "source": [
    "Ville = Ville[:500]"
   ]
  },
  {
   "cell_type": "markdown",
   "id": "1b4cf9af",
   "metadata": {},
   "source": [
    "## Cleaning the lists"
   ]
  },
  {
   "cell_type": "code",
   "execution_count": 120,
   "id": "e4a7a587",
   "metadata": {},
   "outputs": [],
   "source": [
    "#  Nottoyage de la liste Prices\n",
    "prices = []\n",
    "for p in Prices:\n",
    "    if \"Prix : N/A\" in p:\n",
    "        prices.append(None) \n",
    "    else:\n",
    "        prices.append(p.replace(\"DH\", \"\").replace(\" \", \"\"))"
   ]
  },
  {
   "cell_type": "code",
   "execution_count": 121,
   "id": "388316d1",
   "metadata": {},
   "outputs": [],
   "source": [
    "#  Nettoyage de la liste Kilometrage\n",
    "import re\n",
    "kilometrage = [\n",
    "    int(re.sub(r\"\\D\", \"\", str(km))) if km and re.sub(r\"\\D\", \"\", str(km)) != \"\" else 0\n",
    "    for km in Kilometrage\n",
    "]"
   ]
  },
  {
   "cell_type": "code",
   "execution_count": 122,
   "id": "00a16613",
   "metadata": {},
   "outputs": [],
   "source": [
    "#  Nottoyage de la liste puissance \n",
    "import re\n",
    "Puissance = []\n",
    "\n",
    "for val in puissance:\n",
    "    if val is None:  \n",
    "        Puissance.append(None) \n",
    "    else:\n",
    "        match = re.search(r'(\\d+)-(\\d+)', str(val))  \n",
    "        if match:\n",
    "            min_val, max_val = int(match.group(1)), int(match.group(2))\n",
    "            Puissance.append(round((min_val + max_val) / 2))\n",
    "        else:\n",
    "            match = re.search(r'(\\d+)', str(val))  # Extraire uniquement les chiffres\n",
    "            if match:\n",
    "                Puissance.append(int(match.group(1)))\n",
    "            else:\n",
    "                Puissance.append(None) "
   ]
  },
  {
   "cell_type": "markdown",
   "id": "76c79d25",
   "metadata": {},
   "source": [
    "## Final dataset"
   ]
  },
  {
   "cell_type": "code",
   "execution_count": 123,
   "id": "2395cd6d",
   "metadata": {
    "scrolled": false
   },
   "outputs": [
    {
     "data": {
      "text/html": [
       "<div>\n",
       "<style scoped>\n",
       "    .dataframe tbody tr th:only-of-type {\n",
       "        vertical-align: middle;\n",
       "    }\n",
       "\n",
       "    .dataframe tbody tr th {\n",
       "        vertical-align: top;\n",
       "    }\n",
       "\n",
       "    .dataframe thead th {\n",
       "        text-align: right;\n",
       "    }\n",
       "</style>\n",
       "<table border=\"1\" class=\"dataframe\">\n",
       "  <thead>\n",
       "    <tr style=\"text-align: right;\">\n",
       "      <th></th>\n",
       "      <th>TITLES</th>\n",
       "      <th>PRICES</th>\n",
       "      <th>MARQUE</th>\n",
       "      <th>MODELE</th>\n",
       "      <th>ANNEE</th>\n",
       "      <th>CARBURANT</th>\n",
       "      <th>KILOMETRAGE</th>\n",
       "      <th>PUISSANCE</th>\n",
       "      <th>VILLE</th>\n",
       "    </tr>\n",
       "  </thead>\n",
       "  <tbody>\n",
       "    <tr>\n",
       "      <th>0</th>\n",
       "      <td>Dacia duster 2*4</td>\n",
       "      <td>115000</td>\n",
       "      <td>Dacia</td>\n",
       "      <td>DUSTER</td>\n",
       "      <td>2015</td>\n",
       "      <td>Diesel</td>\n",
       "      <td>177000</td>\n",
       "      <td>6.0</td>\n",
       "      <td>Casablanca</td>\n",
       "    </tr>\n",
       "    <tr>\n",
       "      <th>1</th>\n",
       "      <td>ford titanium automatique</td>\n",
       "      <td>142000</td>\n",
       "      <td>Ford</td>\n",
       "      <td>Fusion</td>\n",
       "      <td>2015</td>\n",
       "      <td>Diesel</td>\n",
       "      <td>181000</td>\n",
       "      <td>8.0</td>\n",
       "      <td>Casablanca</td>\n",
       "    </tr>\n",
       "    <tr>\n",
       "      <th>2</th>\n",
       "      <td>Opel Astra 2017</td>\n",
       "      <td>120000</td>\n",
       "      <td>Opel</td>\n",
       "      <td>Astra</td>\n",
       "      <td>2017</td>\n",
       "      <td>Diesel</td>\n",
       "      <td>160000</td>\n",
       "      <td>7.0</td>\n",
       "      <td>Safi</td>\n",
       "    </tr>\n",
       "    <tr>\n",
       "      <th>3</th>\n",
       "      <td>Hyundai Tucson automatique</td>\n",
       "      <td>275000</td>\n",
       "      <td>Hyundai</td>\n",
       "      <td>TUCSON</td>\n",
       "      <td>None</td>\n",
       "      <td>Diesel</td>\n",
       "      <td>88000</td>\n",
       "      <td>7.0</td>\n",
       "      <td>Safi</td>\n",
       "    </tr>\n",
       "    <tr>\n",
       "      <th>4</th>\n",
       "      <td>PEUGEOT 308</td>\n",
       "      <td>162000</td>\n",
       "      <td>Peugeot</td>\n",
       "      <td>308</td>\n",
       "      <td>2018</td>\n",
       "      <td>Diesel</td>\n",
       "      <td>145000</td>\n",
       "      <td>6.0</td>\n",
       "      <td>Casablanca</td>\n",
       "    </tr>\n",
       "    <tr>\n",
       "      <th>...</th>\n",
       "      <td>...</td>\n",
       "      <td>...</td>\n",
       "      <td>...</td>\n",
       "      <td>...</td>\n",
       "      <td>...</td>\n",
       "      <td>...</td>\n",
       "      <td>...</td>\n",
       "      <td>...</td>\n",
       "      <td>...</td>\n",
       "    </tr>\n",
       "    <tr>\n",
       "      <th>495</th>\n",
       "      <td>Hyundai i30</td>\n",
       "      <td>105000</td>\n",
       "      <td>Toyota</td>\n",
       "      <td>Corolla</td>\n",
       "      <td>None</td>\n",
       "      <td>None</td>\n",
       "      <td>0</td>\n",
       "      <td>NaN</td>\n",
       "      <td>None</td>\n",
       "    </tr>\n",
       "    <tr>\n",
       "      <th>496</th>\n",
       "      <td>fiat 1994</td>\n",
       "      <td>19000</td>\n",
       "      <td>Renault</td>\n",
       "      <td>Kangoo</td>\n",
       "      <td>2007</td>\n",
       "      <td>Diesel</td>\n",
       "      <td>186000</td>\n",
       "      <td>6.0</td>\n",
       "      <td>Casablanca</td>\n",
       "    </tr>\n",
       "    <tr>\n",
       "      <th>497</th>\n",
       "      <td>Renault r5 a vendre</td>\n",
       "      <td>9000</td>\n",
       "      <td>Honda</td>\n",
       "      <td>CR-V</td>\n",
       "      <td>2007</td>\n",
       "      <td>Essence</td>\n",
       "      <td>165000</td>\n",
       "      <td>12.0</td>\n",
       "      <td>Mohammedia</td>\n",
       "    </tr>\n",
       "    <tr>\n",
       "      <th>498</th>\n",
       "      <td>Audi a4 s line</td>\n",
       "      <td>158000</td>\n",
       "      <td>Fiat</td>\n",
       "      <td>500</td>\n",
       "      <td>2016</td>\n",
       "      <td>Essence</td>\n",
       "      <td>0</td>\n",
       "      <td>6.0</td>\n",
       "      <td>Casablanca</td>\n",
       "    </tr>\n",
       "    <tr>\n",
       "      <th>499</th>\n",
       "      <td>Citroen c3 diesel comme neuf</td>\n",
       "      <td>98000</td>\n",
       "      <td>Kia</td>\n",
       "      <td>VENGA</td>\n",
       "      <td>1999</td>\n",
       "      <td>Diesel</td>\n",
       "      <td>0</td>\n",
       "      <td>NaN</td>\n",
       "      <td>Mohammedia</td>\n",
       "    </tr>\n",
       "  </tbody>\n",
       "</table>\n",
       "<p>500 rows × 9 columns</p>\n",
       "</div>"
      ],
      "text/plain": [
       "                           TITLES  PRICES   MARQUE   MODELE ANNEE CARBURANT  \\\n",
       "0                Dacia duster 2*4  115000    Dacia   DUSTER  2015    Diesel   \n",
       "1       ford titanium automatique  142000     Ford   Fusion  2015    Diesel   \n",
       "2                 Opel Astra 2017  120000     Opel    Astra  2017    Diesel   \n",
       "3      Hyundai Tucson automatique  275000  Hyundai   TUCSON  None    Diesel   \n",
       "4                     PEUGEOT 308  162000  Peugeot      308  2018    Diesel   \n",
       "..                            ...     ...      ...      ...   ...       ...   \n",
       "495                   Hyundai i30  105000   Toyota  Corolla  None      None   \n",
       "496                     fiat 1994   19000  Renault   Kangoo  2007    Diesel   \n",
       "497           Renault r5 a vendre    9000    Honda     CR-V  2007   Essence   \n",
       "498                Audi a4 s line  158000     Fiat      500  2016   Essence   \n",
       "499  Citroen c3 diesel comme neuf   98000      Kia    VENGA  1999    Diesel   \n",
       "\n",
       "     KILOMETRAGE  PUISSANCE       VILLE  \n",
       "0         177000        6.0  Casablanca  \n",
       "1         181000        8.0  Casablanca  \n",
       "2         160000        7.0        Safi  \n",
       "3          88000        7.0        Safi  \n",
       "4         145000        6.0  Casablanca  \n",
       "..           ...        ...         ...  \n",
       "495            0        NaN        None  \n",
       "496       186000        6.0  Casablanca  \n",
       "497       165000       12.0  Mohammedia  \n",
       "498            0        6.0  Casablanca  \n",
       "499            0        NaN  Mohammedia  \n",
       "\n",
       "[500 rows x 9 columns]"
      ]
     },
     "execution_count": 123,
     "metadata": {},
     "output_type": "execute_result"
    }
   ],
   "source": [
    "import pandas as pd\n",
    "d={\"TITLES\":Titles,\"PRICES\":prices,\"MARQUE\": Marque,\"MODELE\":Modele,\"ANNEE\":Annee,\n",
    "   \"CARBURANT\":Carburant,\"KILOMETRAGE\":kilometrage,\"PUISSANCE\":Puissance, \"VILLE\":Ville}\n",
    "data=pd.DataFrame(d)\n",
    "data"
   ]
  },
  {
   "cell_type": "markdown",
   "id": "963131a1",
   "metadata": {},
   "source": [
    "## TITLES"
   ]
  },
  {
   "cell_type": "code",
   "execution_count": 158,
   "id": "9e23afa9",
   "metadata": {},
   "outputs": [],
   "source": [
    "data['TITLES'] = data['TITLES'].str.lower()"
   ]
  },
  {
   "cell_type": "code",
   "execution_count": 159,
   "id": "586ba867",
   "metadata": {},
   "outputs": [
    {
     "data": {
      "text/plain": [
       "kia picanto                               5\n",
       "opel meriva b                             5\n",
       "hyundai accent                            4\n",
       "opel corsa                                4\n",
       "voiture à vendre                          3\n",
       "                                         ..\n",
       "mercedes a180                             1\n",
       "ابحث عن سيارة                             1\n",
       "ford fusion titanium x - très bon état    1\n",
       "ford focus trend plus                     1\n",
       "audi a4 s line                            1\n",
       "Name: TITLES, Length: 379, dtype: int64"
      ]
     },
     "execution_count": 159,
     "metadata": {},
     "output_type": "execute_result"
    }
   ],
   "source": [
    "# Tilte\n",
    "data['TITLES'].value_counts()"
   ]
  },
  {
   "cell_type": "markdown",
   "id": "7c79bdd7",
   "metadata": {},
   "source": [
    "## MODELE"
   ]
  },
  {
   "cell_type": "code",
   "execution_count": 160,
   "id": "d793abfb",
   "metadata": {},
   "outputs": [],
   "source": [
    "data['MODELE'] = data['MODELE'].str.lower()"
   ]
  },
  {
   "cell_type": "code",
   "execution_count": 161,
   "id": "81653820",
   "metadata": {},
   "outputs": [
    {
     "data": {
      "text/plain": [
       "clio       15\n",
       "corolla    12\n",
       "golf       11\n",
       "megane     11\n",
       "500         9\n",
       "           ..\n",
       "106         1\n",
       "expert      1\n",
       "2008        1\n",
       "eos         1\n",
       "309         1\n",
       "Name: MODELE, Length: 144, dtype: int64"
      ]
     },
     "execution_count": 161,
     "metadata": {},
     "output_type": "execute_result"
    }
   ],
   "source": [
    "# Modele\n",
    "data['MODELE'].value_counts()"
   ]
  },
  {
   "cell_type": "markdown",
   "id": "a5c993b1",
   "metadata": {},
   "source": [
    "### MARQUE"
   ]
  },
  {
   "cell_type": "code",
   "execution_count": 154,
   "id": "db2b8b2d",
   "metadata": {},
   "outputs": [],
   "source": [
    "data['MARQUE'] =data['MARQUE'].str.lower()"
   ]
  },
  {
   "cell_type": "code",
   "execution_count": 155,
   "id": "15956c04",
   "metadata": {},
   "outputs": [
    {
     "data": {
      "text/plain": [
       "peugeot          48\n",
       "renault          46\n",
       "volkswagen       44\n",
       "dacia            30\n",
       "ford             28\n",
       "opel             24\n",
       "fiat             24\n",
       "citroen          23\n",
       "hyundai          19\n",
       "toyota           19\n",
       "mercedes-benz    14\n",
       "audi             11\n",
       "kia              10\n",
       "honda            10\n",
       "bmw              10\n",
       "jeep              6\n",
       "nissan            6\n",
       "mazda             4\n",
       "mini              4\n",
       "seat              4\n",
       "skoda             4\n",
       "suzuki            3\n",
       "chevrolet         3\n",
       "porsche           2\n",
       "daihatsu          2\n",
       "chery             2\n",
       "volvo             2\n",
       "rover             2\n",
       "land rover        2\n",
       "jaguar            2\n",
       "alfa romeo        1\n",
       "subaru            1\n",
       "maserati          1\n",
       "Name: MARQUE, dtype: int64"
      ]
     },
     "execution_count": 155,
     "metadata": {},
     "output_type": "execute_result"
    }
   ],
   "source": [
    "#Marque\n",
    "data['MARQUE'].value_counts()"
   ]
  },
  {
   "cell_type": "markdown",
   "id": "b1ea3792",
   "metadata": {},
   "source": [
    "### PRICES "
   ]
  },
  {
   "cell_type": "code",
   "execution_count": 162,
   "id": "d0d4a6b4",
   "metadata": {},
   "outputs": [],
   "source": [
    "#Convert The Prices column to float\n",
    "data['PRICES']=data['PRICES'].astype('float')"
   ]
  },
  {
   "cell_type": "code",
   "execution_count": 163,
   "id": "310e852e",
   "metadata": {},
   "outputs": [
    {
     "data": {
      "text/plain": [
       "115000.0    10\n",
       "100000.0    10\n",
       "105000.0    10\n",
       "110000.0     9\n",
       "65000.0      9\n",
       "            ..\n",
       "93000.0      1\n",
       "148000.0     1\n",
       "250.0        1\n",
       "280000.0     1\n",
       "9000.0       1\n",
       "Name: PRICES, Length: 157, dtype: int64"
      ]
     },
     "execution_count": 163,
     "metadata": {},
     "output_type": "execute_result"
    }
   ],
   "source": [
    "#Prices\n",
    "data['PRICES'].value_counts()"
   ]
  },
  {
   "cell_type": "code",
   "execution_count": null,
   "id": "f43decb0",
   "metadata": {},
   "outputs": [],
   "source": [
    "data['PRICES'].value_counts()"
   ]
  },
  {
   "cell_type": "markdown",
   "id": "7784f53c",
   "metadata": {},
   "source": [
    "### VILLE"
   ]
  },
  {
   "cell_type": "code",
   "execution_count": 172,
   "id": "30f5c9e1",
   "metadata": {},
   "outputs": [],
   "source": [
    "data['VILLE'] = data['VILLE'].str.lower()"
   ]
  },
  {
   "cell_type": "code",
   "execution_count": 169,
   "id": "21348984",
   "metadata": {},
   "outputs": [
    {
     "data": {
      "text/plain": [
       "casablanca              207\n",
       "rabat                    38\n",
       "marrakech                30\n",
       "mohammedia               15\n",
       "agadir                   14\n",
       "tanger                   13\n",
       "meknès                   11\n",
       "salé                     10\n",
       "el jadida                 9\n",
       "kénitra                   9\n",
       "temara                    8\n",
       "fès                       8\n",
       "berrechid                 5\n",
       "safi                      5\n",
       "tout le maroc             5\n",
       "taroudant                 3\n",
       "berkane                   2\n",
       "nador                     2\n",
       "larache                   2\n",
       "oujda                     2\n",
       "guelmim                   2\n",
       "sidi rahal                2\n",
       "bouskoura                 1\n",
       "khemisset                 1\n",
       "imouzzer kandar           1\n",
       "beni mellal               1\n",
       "sidi kacem                1\n",
       "benslimane                1\n",
       "el kelaa des sraghna      1\n",
       "dakhla                    1\n",
       "martil                    1\n",
       "Name: VILLE, dtype: int64"
      ]
     },
     "execution_count": 169,
     "metadata": {},
     "output_type": "execute_result"
    }
   ],
   "source": [
    "data['VILLE'].value_counts()"
   ]
  },
  {
   "cell_type": "markdown",
   "id": "803accc6",
   "metadata": {},
   "source": [
    "## CARBURANT"
   ]
  },
  {
   "cell_type": "code",
   "execution_count": 182,
   "id": "d7192766",
   "metadata": {},
   "outputs": [
    {
     "data": {
      "text/plain": [
       "Diesel     312\n",
       "Essence     93\n",
       "ديزل         4\n",
       "Name: CARBURANT, dtype: int64"
      ]
     },
     "execution_count": 182,
     "metadata": {},
     "output_type": "execute_result"
    }
   ],
   "source": [
    "data['CARBURANT'].value_counts()"
   ]
  },
  {
   "cell_type": "markdown",
   "id": "384683a5",
   "metadata": {},
   "source": [
    "### Remove Rows with NULL Values "
   ]
  },
  {
   "cell_type": "code",
   "execution_count": 131,
   "id": "c13333f0",
   "metadata": {},
   "outputs": [],
   "source": [
    "# Rmove rows when Kilometrage is null\n",
    "data = data.dropna(subset=['KILOMETRAGE'])"
   ]
  },
  {
   "cell_type": "code",
   "execution_count": 132,
   "id": "2c2a2d1e",
   "metadata": {},
   "outputs": [],
   "source": [
    "# Rmove rows when Prices is null\n",
    "data = data.dropna(subset=['PRICES'])"
   ]
  },
  {
   "cell_type": "code",
   "execution_count": 133,
   "id": "754b7fee",
   "metadata": {},
   "outputs": [],
   "source": [
    "# Rmove rows when Puissance is null\n",
    "data = data.dropna(subset=['PUISSANCE'])"
   ]
  },
  {
   "cell_type": "markdown",
   "id": "dca48359",
   "metadata": {},
   "source": [
    "## Reset the index"
   ]
  },
  {
   "cell_type": "code",
   "execution_count": 137,
   "id": "849cd2bb",
   "metadata": {},
   "outputs": [],
   "source": [
    "data = data.reset_index()"
   ]
  },
  {
   "cell_type": "code",
   "execution_count": 147,
   "id": "d97bf76e",
   "metadata": {},
   "outputs": [],
   "source": [
    "data = data.drop(['index'], axis=1)"
   ]
  },
  {
   "cell_type": "markdown",
   "id": "0c37b6e5",
   "metadata": {},
   "source": [
    "## Drop_duplicated"
   ]
  },
  {
   "cell_type": "code",
   "execution_count": 139,
   "id": "42405917",
   "metadata": {},
   "outputs": [],
   "source": [
    "data = data.drop_duplicates()"
   ]
  },
  {
   "cell_type": "markdown",
   "id": "18f74ad2",
   "metadata": {},
   "source": [
    "##  Saving to a file"
   ]
  },
  {
   "cell_type": "code",
   "execution_count": 149,
   "id": "a11163ed",
   "metadata": {},
   "outputs": [],
   "source": [
    "data.to_csv(r\"C:\\Users\\Admin\\Desktop\\annoncemaroc\\data_cars.CSV\")"
   ]
  },
  {
   "cell_type": "markdown",
   "id": "131cf035",
   "metadata": {},
   "source": [
    "## Tester"
   ]
  },
  {
   "cell_type": "code",
   "execution_count": 151,
   "id": "2584353e",
   "metadata": {},
   "outputs": [
    {
     "data": {
      "text/html": [
       "<div>\n",
       "<style scoped>\n",
       "    .dataframe tbody tr th:only-of-type {\n",
       "        vertical-align: middle;\n",
       "    }\n",
       "\n",
       "    .dataframe tbody tr th {\n",
       "        vertical-align: top;\n",
       "    }\n",
       "\n",
       "    .dataframe thead th {\n",
       "        text-align: right;\n",
       "    }\n",
       "</style>\n",
       "<table border=\"1\" class=\"dataframe\">\n",
       "  <thead>\n",
       "    <tr style=\"text-align: right;\">\n",
       "      <th></th>\n",
       "      <th>TITLES</th>\n",
       "      <th>PRICES</th>\n",
       "      <th>MARQUE</th>\n",
       "      <th>MODELE</th>\n",
       "      <th>ANNEE</th>\n",
       "      <th>CARBURANT</th>\n",
       "      <th>KILOMETRAGE</th>\n",
       "      <th>PUISSANCE</th>\n",
       "      <th>VILLE</th>\n",
       "    </tr>\n",
       "  </thead>\n",
       "  <tbody>\n",
       "    <tr>\n",
       "      <th>408</th>\n",
       "      <td>fiat 1994</td>\n",
       "      <td>19000.0</td>\n",
       "      <td>renault</td>\n",
       "      <td>kangoo</td>\n",
       "      <td>2007</td>\n",
       "      <td>Diesel</td>\n",
       "      <td>186000</td>\n",
       "      <td>6.0</td>\n",
       "      <td>Casablanca</td>\n",
       "    </tr>\n",
       "  </tbody>\n",
       "</table>\n",
       "</div>"
      ],
      "text/plain": [
       "        TITLES   PRICES   MARQUE  MODELE ANNEE CARBURANT  KILOMETRAGE  \\\n",
       "408  fiat 1994  19000.0  renault  kangoo  2007    Diesel       186000   \n",
       "\n",
       "     PUISSANCE       VILLE  \n",
       "408        6.0  Casablanca  "
      ]
     },
     "execution_count": 151,
     "metadata": {},
     "output_type": "execute_result"
    }
   ],
   "source": [
    "data[data[\"TITLES\"]==\"fiat 1994\"]"
   ]
  },
  {
   "cell_type": "code",
   "execution_count": 180,
   "id": "d839021a",
   "metadata": {},
   "outputs": [
    {
     "data": {
      "text/html": [
       "<div>\n",
       "<style scoped>\n",
       "    .dataframe tbody tr th:only-of-type {\n",
       "        vertical-align: middle;\n",
       "    }\n",
       "\n",
       "    .dataframe tbody tr th {\n",
       "        vertical-align: top;\n",
       "    }\n",
       "\n",
       "    .dataframe thead th {\n",
       "        text-align: right;\n",
       "    }\n",
       "</style>\n",
       "<table border=\"1\" class=\"dataframe\">\n",
       "  <thead>\n",
       "    <tr style=\"text-align: right;\">\n",
       "      <th></th>\n",
       "      <th>TITLES</th>\n",
       "      <th>PRICES</th>\n",
       "      <th>MARQUE</th>\n",
       "      <th>MODELE</th>\n",
       "      <th>ANNEE</th>\n",
       "      <th>CARBURANT</th>\n",
       "      <th>KILOMETRAGE</th>\n",
       "      <th>PUISSANCE</th>\n",
       "      <th>VILLE</th>\n",
       "    </tr>\n",
       "  </thead>\n",
       "  <tbody>\n",
       "    <tr>\n",
       "      <th>115</th>\n",
       "      <td>cotroën c4</td>\n",
       "      <td>125000.0</td>\n",
       "      <td>citroen</td>\n",
       "      <td>c4</td>\n",
       "      <td>2015</td>\n",
       "      <td>Diesel</td>\n",
       "      <td>93000</td>\n",
       "      <td>6.0</td>\n",
       "      <td>tanger</td>\n",
       "    </tr>\n",
       "    <tr>\n",
       "      <th>187</th>\n",
       "      <td>سيارة للكراء</td>\n",
       "      <td>250.0</td>\n",
       "      <td>peugeot</td>\n",
       "      <td>bipper</td>\n",
       "      <td>2015</td>\n",
       "      <td>Diesel</td>\n",
       "      <td>210000</td>\n",
       "      <td>6.0</td>\n",
       "      <td>tanger</td>\n",
       "    </tr>\n",
       "  </tbody>\n",
       "</table>\n",
       "</div>"
      ],
      "text/plain": [
       "           TITLES    PRICES   MARQUE  MODELE ANNEE CARBURANT  KILOMETRAGE  \\\n",
       "115    cotroën c4  125000.0  citroen      c4  2015    Diesel        93000   \n",
       "187  سيارة للكراء     250.0  peugeot  bipper  2015    Diesel       210000   \n",
       "\n",
       "     PUISSANCE   VILLE  \n",
       "115        6.0  tanger  \n",
       "187        6.0  tanger  "
      ]
     },
     "execution_count": 180,
     "metadata": {},
     "output_type": "execute_result"
    }
   ],
   "source": [
    "data[(data[\"VILLE\"]==\"tanger\") & (data[\"ANNEE\"]==\"2015\") ]"
   ]
  },
  {
   "cell_type": "markdown",
   "id": "0f96e8a3",
   "metadata": {},
   "source": [
    "## infos about data"
   ]
  },
  {
   "cell_type": "code",
   "execution_count": 183,
   "id": "34ffea7d",
   "metadata": {},
   "outputs": [
    {
     "name": "stdout",
     "output_type": "stream",
     "text": [
      "<class 'pandas.core.frame.DataFrame'>\n",
      "Int64Index: 411 entries, 0 to 410\n",
      "Data columns (total 9 columns):\n",
      " #   Column       Non-Null Count  Dtype  \n",
      "---  ------       --------------  -----  \n",
      " 0   TITLES       411 non-null    object \n",
      " 1   PRICES       411 non-null    float64\n",
      " 2   MARQUE       411 non-null    object \n",
      " 3   MODELE       411 non-null    object \n",
      " 4   ANNEE        382 non-null    object \n",
      " 5   CARBURANT    409 non-null    object \n",
      " 6   KILOMETRAGE  411 non-null    int64  \n",
      " 7   PUISSANCE    411 non-null    float64\n",
      " 8   VILLE        411 non-null    object \n",
      "dtypes: float64(2), int64(1), object(6)\n",
      "memory usage: 32.1+ KB\n"
     ]
    }
   ],
   "source": [
    "data.info()"
   ]
  },
  {
   "cell_type": "markdown",
   "id": "3bf98650",
   "metadata": {},
   "source": [
    "## Import data into Snowflake"
   ]
  },
  {
   "cell_type": "code",
   "execution_count": 150,
   "id": "8d9c1a41",
   "metadata": {},
   "outputs": [
    {
     "name": "stderr",
     "output_type": "stream",
     "text": [
      "C:\\Users\\Admin\\AppData\\Local\\Temp\\ipykernel_15620\\617789560.py:36: UserWarning: Pandas Dataframe has non-standard index of type <class 'pandas.core.indexes.numeric.Int64Index'> which will not be written. Consider changing the index to pd.RangeIndex(start=0,...,step=1) or call reset_index() to keep index as column(s)\n",
      "  write_pandas(conn, data, \"VOITURES\", auto_create_table=False)\n"
     ]
    }
   ],
   "source": [
    "import pandas as pd\n",
    "import snowflake.connector\n",
    "import os\n",
    "from snowflake.connector.pandas_tools import write_pandas\n",
    "\n",
    "# Paramètres de connexion Snowflake\n",
    "conn = snowflake.connector.connect(\n",
    "    user=\"ISRAENAZ\",\n",
    "    password=\"Israe_Nazha123\",\n",
    "    account=\"ib36519.switzerland-north.azure\",\n",
    "    database=\"VOITURES\",  # Remplacez par votre base de données\n",
    "    schema=\"PUBLIC\",\n",
    "    warehouse=\"COMPUTE_WH\", \n",
    "    role=\"ACCOUNTADMIN\"\n",
    "    \n",
    ")\n",
    "\n",
    "\n",
    "create_table_query = \"\"\"\n",
    "CREATE OR REPLACE TABLE voitures (\n",
    "    TITLES STRING,\n",
    "    PRICES FLOAT,\n",
    "    MODELE STRING,\n",
    "    MARQUE STRING,\n",
    "    ANNEE INT,\n",
    "    KILOMETRAGE FLOAT,\n",
    "    CARBURANT STRING,\n",
    "    PUISSANCE FLOAT,\n",
    "    VILLE STRING\n",
    ");\n",
    "\"\"\"\n",
    "cursor = conn.cursor()\n",
    "cursor.execute(create_table_query)\n",
    "\n",
    "# Insérer les données sans recréer la table\n",
    "write_pandas(conn, data, \"VOITURES\", auto_create_table=False)\n",
    "cursor = conn.cursor()\n"
   ]
  },
  {
   "cell_type": "code",
   "execution_count": null,
   "id": "f537500b",
   "metadata": {},
   "outputs": [],
   "source": []
  },
  {
   "cell_type": "markdown",
   "id": "dfdde866",
   "metadata": {},
   "source": [
    "## Data Visualization in Power BI"
   ]
  },
  {
   "cell_type": "code",
   "execution_count": 189,
   "id": "2f48a08c",
   "metadata": {},
   "outputs": [
    {
     "data": {
      "image/png": "[encoded data removed]",
      "text/plain": [
       "<IPython.core.display.Image object>"
      ]
     },
     "execution_count": 189,
     "metadata": {},
     "output_type": "execute_result"
    }
   ],
   "source": [
    "from IPython.display import Image\n",
    "Image(filename=r'C:\\Users\\Admin\\Desktop\\visualisation.png')"
   ]
  },
  {
   "cell_type": "code",
   "execution_count": null,
   "id": "dc96a0a0",
   "metadata": {},
   "outputs": [],
   "source": []
  }
 ],
 "metadata": {
  "kernelspec": {
   "display_name": "Python 3 (ipykernel)",
   "language": "python",
   "name": "python3"
  },
  "language_info": {
   "codemirror_mode": {
    "name": "ipython",
    "version": 3
   },
   "file_extension": ".py",
   "mimetype": "text/x-python",
   "name": "python",
   "nbconvert_exporter": "python",
   "pygments_lexer": "ipython3",
   "version": "3.11.4"
  }
 },
 "nbformat": 4,
 "nbformat_minor": 5
}
